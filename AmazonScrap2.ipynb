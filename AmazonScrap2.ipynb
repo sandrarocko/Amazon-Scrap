{
 "cells": [
  {
   "cell_type": "code",
   "execution_count": 2,
   "id": "bc285662-3941-485f-aab8-f88c58e9ff05",
   "metadata": {},
   "outputs": [],
   "source": [
    "\n",
    "from bs4 import BeautifulSoup\n",
    "import requests\n",
    "import time\n",
    "import datetime\n",
    "import smtplib\n",
    "\n",
    "from selenium import webdriver\n",
    "from selenium.webdriver.chrome.service import Service\n",
    "from selenium.webdriver.chrome.options import Options\n",
    "import os\n"
   ]
  },
  {
   "cell_type": "code",
   "execution_count": 17,
   "id": "795fe247-49b0-459e-86ab-529859af22fd",
   "metadata": {},
   "outputs": [],
   "source": [
    "# Connect to Website and pull in data\n",
    "\n",
    "URL = 'https://www.amazon.com/TIPTOE-BEAR-Washed-Breathable-Bedding/dp/B0D7HV3D6Q/ref=sr_1_4_sspa?_encoding=UTF8&content-id=amzn1.sym.83009b1f-702c-4be7-814b-0240b8f687d2&dib=eyJ2IjoiMSJ9.b5R0jRFfVPlGMYMRYmenWRQ1KGehANNWlTGRfwpP04jEr1pTAyVqc4e4kMfJHgtDEIpnFcQkwTIV-be2x5z_g6-BSrxAqkvmvhtWkYQ7S8QLab_O6ZhVVGp32ibtacdxlnQtjVSv6VXF8DtzsJJY0oKznjKcrdsh7fr2zlARj6unm-Oov0AMdjv-flH1wCg57UJAkneVcqaQnoSjumQFmcbmZu9GkA6SoQ-exlKhmNVTjvq1yn38mpp9TmR-BK0FfHicqskT82n4wt5HqGPO2t5hLmCjiNSWdUzCxRhJo7o.x3-8sEjhlq-1T5ig20YmOIU_inKnW6K2hSOGRoOau58&dib_tag=se&keywords=bedding&pd_rd_r=c0718a16-a886-42ea-b25e-e26f4a482607&pd_rd_w=cf0p3&pd_rd_wg=ZOKNt&pf_rd_p=83009b1f-702c-4be7-814b-0240b8f687d2&pf_rd_r=D9B4EVY6V33AJ6DPXDQF&qid=1727777065&sr=8-4-spons&sp_csd=d2lkZ2V0TmFtZT1zcF9hdGY&th=1'\n",
    "\n",
    "headers = {\"User-Agent\": \"Mozilla/5.0 (Macintosh; Intel Mac OS X 10_15_7) AppleWebKit/537.36 (KHTML, like Gecko) Chrome/129.0.0.0 Safari/537.36\"}\n",
    "\n",
    "page = requests.get(URL, headers=headers)\n",
    "\n",
    "soup1 = BeautifulSoup(page.content, \"html.parser\")\n",
    "\n",
    "soup2 = BeautifulSoup(soup1.prettify(), \"html.parser\")\n",
    "\n",
    "title = soup2.find(id='productTitle').get_text()\n",
    "\n",
    "print(title)\n",
    "#print(price)\n"
   ]
  },
  {
   "cell_type": "code",
   "execution_count": 19,
   "id": "0db7424d-edd8-4422-96ca-e838efda6f84",
   "metadata": {},
   "outputs": [
    {
     "name": "stdout",
     "output_type": "stream",
     "text": [
      "\n",
      "             Full Duvet Cover Set- 100% Washed Cotton 3 Pcs Soft Comfy Breathable Chic Linen Feel Bedding, 1 Duvet Cover and 2 Pillow Shams, Beige\n",
      "            \n"
     ]
    }
   ],
   "source": [
    "print(title)"
   ]
  },
  {
   "cell_type": "code",
   "execution_count": 24,
   "id": "0d5fc27b-d5fb-4559-8321-ec4404992c16",
   "metadata": {},
   "outputs": [],
   "source": [
    "price = soup1.find('span',class_='a-offscreen').get_text().replace(\"$\",\"\")"
   ]
  },
  {
   "cell_type": "code",
   "execution_count": 25,
   "id": "aa99f563-3912-45d8-9019-860a9db04a2b",
   "metadata": {},
   "outputs": [
    {
     "name": "stdout",
     "output_type": "stream",
     "text": [
      "55.99\n"
     ]
    }
   ],
   "source": [
    "print(price)"
   ]
  },
  {
   "cell_type": "code",
   "execution_count": 29,
   "id": "8a0a8a63-d077-4b9f-b83b-7b8dbe61a5a5",
   "metadata": {},
   "outputs": [
    {
     "name": "stdout",
     "output_type": "stream",
     "text": [
      "Full Duvet Cover Set- 100% Washed Cotton 3 Pcs Soft Comfy Breathable Chic Linen Feel Bedding, 1 Duvet Cover and 2 Pillow Shams, Beige\n"
     ]
    }
   ],
   "source": [
    "title = title.strip()\n",
    "print(title)\n",
    "\n",
    "#type(price)"
   ]
  },
  {
   "cell_type": "code",
   "execution_count": 31,
   "id": "b508983c-210d-4eef-baad-de98e84620ee",
   "metadata": {},
   "outputs": [
    {
     "name": "stdout",
     "output_type": "stream",
     "text": [
      "2024-10-01\n"
     ]
    }
   ],
   "source": [
    "# Create a Timestamp for your output to track when data was collected\n",
    "\n",
    "import datetime\n",
    "\n",
    "today = datetime.date.today()\n",
    "\n",
    "print(today)"
   ]
  },
  {
   "cell_type": "code",
   "execution_count": 32,
   "id": "b6a1d4e2-78f0-49bb-8e53-2a291d4b75e0",
   "metadata": {},
   "outputs": [],
   "source": [
    "# Create CSV and write headers and data into the file\n",
    "\n",
    "import csv \n",
    "\n",
    "header = ['Title', 'Price', 'Date']\n",
    "data = [title, price, today]\n",
    "\n",
    "\n",
    "with open('AmazonWebScraperDataset.csv', 'w', newline='', encoding='UTF8') as f:\n",
    "    writer = csv.writer(f)\n",
    "    writer.writerow(header)\n",
    "    writer.writerow(data)\n"
   ]
  },
  {
   "cell_type": "code",
   "execution_count": 33,
   "id": "7886f8a3-8c0d-47d1-9d36-a49d3509208c",
   "metadata": {},
   "outputs": [
    {
     "name": "stdout",
     "output_type": "stream",
     "text": [
      "                                               Title  Price        Date\n",
      "0  Full Duvet Cover Set- 100% Washed Cotton 3 Pcs...  55.99  2024-10-01\n"
     ]
    }
   ],
   "source": [
    "import pandas as pd\n",
    "df = pd.read_csv(r'/Users/sandra/Documents/Sql/AmazonWebScraperDataset.csv')\n",
    "\n",
    "print(df)"
   ]
  },
  {
   "cell_type": "code",
   "execution_count": null,
   "id": "6f256c6d-fafe-48a0-8793-7d312a835ce4",
   "metadata": {},
   "outputs": [],
   "source": [
    "#Now we are appending data to the csv #aLE TO JUZ SKOPIOWALAM\n",
    "\n",
    "with open('AmazonWebScraperDataset.csv', 'a+', newline='', encoding='UTF8') as f:\n",
    "    writer = csv.writer(f)\n",
    "    writer.writerow(data)\n"
   ]
  },
  {
   "cell_type": "code",
   "execution_count": null,
   "id": "a44e4a69-331d-4253-bb06-0141db801dc4",
   "metadata": {},
   "outputs": [],
   "source": [
    "#Combine all of the above code into one function\n",
    "\n",
    "\n",
    "def check_price():\n",
    "    URL = 'https://www.amazon.com/TIPTOE-BEAR-Washed-Breathable-Bedding/dp/B0D7HV3D6Q/ref=sr_1_4_sspa?_encoding=UTF8&content-id=amzn1.sym.83009b1f-702c-4be7-814b-0240b8f687d2&dib=eyJ2IjoiMSJ9.b5R0jRFfVPlGMYMRYmenWRQ1KGehANNWlTGRfwpP04jEr1pTAyVqc4e4kMfJHgtDEIpnFcQkwTIV-be2x5z_g6-BSrxAqkvmvhtWkYQ7S8QLab_O6ZhVVGp32ibtacdxlnQtjVSv6VXF8DtzsJJY0oKznjKcrdsh7fr2zlARj6unm-Oov0AMdjv-flH1wCg57UJAkneVcqaQnoSjumQFmcbmZu9GkA6SoQ-exlKhmNVTjvq1yn38mpp9TmR-BK0FfHicqskT82n4wt5HqGPO2t5hLmCjiNSWdUzCxRhJo7o.x3-8sEjhlq-1T5ig20YmOIU_inKnW6K2hSOGRoOau58&dib_tag=se&keywords=bedding&pd_rd_r=c0718a16-a886-42ea-b25e-e26f4a482607&pd_rd_w=cf0p3&pd_rd_wg=ZOKNt&pf_rd_p=83009b1f-702c-4be7-814b-0240b8f687d2&pf_rd_r=D9B4EVY6V33AJ6DPXDQF&qid=1727777065&sr=8-4-spons&sp_csd=d2lkZ2V0TmFtZT1zcF9hdGY&th=1'\n",
    "\n",
    "    headers = {\"User-Agent\": \"Mozilla/5.0 (Windows NT 10.0; Win64; x64) AppleWebKit/537.36 (KHTML, like Gecko) Chrome/78.0.3904.108 Safari/537.36\", \"Accept-Encoding\":\"gzip, deflate\", \"Accept\":\"text/html,application/xhtml+xml,application/xml;q=0.9,*/*;q=0.8\", \"DNT\":\"1\",\"Connection\":\"close\", \"Upgrade-Insecure-Requests\":\"1\"}\n",
    "\n",
    "    page = requests.get(URL, headers=headers)\n",
    "\n",
    "    soup1 = BeautifulSoup(page.content, \"html.parser\")\n",
    "\n",
    "    soup2 = BeautifulSoup(soup1.prettify(), \"html.parser\")\n",
    "\n",
    "    title = soup2.find(id='productTitle').get_text()\n",
    "\n",
    "    price = soup2.find(id='priceblock_ourprice').get_text()\n",
    "\n",
    "    price = price.strip()[1:]\n",
    "    title = title.strip()\n",
    "\n",
    "    import datetime\n",
    "\n",
    "    today = datetime.date.today()\n",
    "    \n",
    "    import csv \n",
    "\n",
    "    header = ['Title', 'Price', 'Date']\n",
    "    data = [title, price, today]\n",
    "\n",
    "    with open('AmazonWebScraperDataset.csv', 'a+', newline='', encoding='UTF8') as f:\n",
    "        writer = csv.writer(f)\n",
    "        writer.writerow(data)\n",
    " \n"
   ]
  },
  {
   "cell_type": "code",
   "execution_count": null,
   "id": "388c83a2-2421-450c-82b2-e89dc2feff72",
   "metadata": {},
   "outputs": [],
   "source": [
    "# Runs check_price after a set time and inputs data into your CSV\n",
    "\n",
    "while(True):\n",
    "    check_price()\n",
    "    time.sleep(86400)\n"
   ]
  },
  {
   "cell_type": "code",
   "execution_count": null,
   "id": "fec640a3-12a4-4190-a30d-127f852d2431",
   "metadata": {},
   "outputs": [],
   "source": [
    "# If uou want to try sending yourself an email (just for fun) when a price hits below a certain level you can try it\n",
    "# out with this script\n",
    "\n",
    "def send_mail():\n",
    "    server = smtplib.SMTP_SSL('smtp.gmail.com',465)\n",
    "    server.ehlo()\n",
    "    #server.starttls()\n",
    "    server.ehlo()\n",
    "    server.login('x@gmail.com','xxxxxxxxxxxxxx')\n",
    "    \n",
    "    subject = \"The Bedig you want is below $40! Now is your chance to buy!\"\n",
    "    body = \"Better tha ever, blah blah BUY MORE Link here: https://www.amazon.com/TIPTOE-BEAR-Washed-Breathable-Bedding/dp/B0D7HV3D6Q/ref=sr_1_4_sspa?_encoding=UTF8&content-id=amzn1.sym.83009b1f-702c-4be7-814b-0240b8f687d2&dib=eyJ2IjoiMSJ9.b5R0jRFfVPlGMYMRYmenWRQ1KGehANNWlTGRfwpP04jEr1pTAyVqc4e4kMfJHgtDEIpnFcQkwTIV-be2x5z_g6-BSrxAqkvmvhtWkYQ7S8QLab_O6ZhVVGp32ibtacdxlnQtjVSv6VXF8DtzsJJY0oKznjKcrdsh7fr2zlARj6unm-Oov0AMdjv-flH1wCg57UJAkneVcqaQnoSjumQFmcbmZu9GkA6SoQ-exlKhmNVTjvq1yn38mpp9TmR-BK0FfHicqskT82n4wt5HqGPO2t5hLmCjiNSWdUzCxRhJo7o.x3-8sEjhlq-1T5ig20YmOIU_inKnW6K2hSOGRoOau58&dib_tag=se&keywords=bedding&pd_rd_r=c0718a16-a886-42ea-b25e-e26f4a482607&pd_rd_w=cf0p3&pd_rd_wg=ZOKNt&pf_rd_p=83009b1f-702c-4be7-814b-0240b8f687d2&pf_rd_r=D9B4EVY6V33AJ6DPXDQF&qid=1727777065&sr=8-4-spons&sp_csd=d2lkZ2V0TmFtZT1zcF9hdGY&th=1\"\n",
    "   \n",
    "    msg = f\"Subject: {subject}\\n\\n{body}\"\n",
    "    \n",
    "    server.sendmail(\n",
    "        'x@gmail.com',\n",
    "        msg\n",
    "     \n",
    "    )"
   ]
  }
 ],
 "metadata": {
  "kernelspec": {
   "display_name": "Python 3 (ipykernel)",
   "language": "python",
   "name": "python3"
  },
  "language_info": {
   "codemirror_mode": {
    "name": "ipython",
    "version": 3
   },
   "file_extension": ".py",
   "mimetype": "text/x-python",
   "name": "python",
   "nbconvert_exporter": "python",
   "pygments_lexer": "ipython3",
   "version": "3.12.2"
  }
 },
 "nbformat": 4,
 "nbformat_minor": 5
}
